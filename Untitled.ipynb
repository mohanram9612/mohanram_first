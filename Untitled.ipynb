{
 "cells": [
  {
   "cell_type": "code",
   "execution_count": 79,
   "metadata": {},
   "outputs": [
    {
     "name": "stdout",
     "output_type": "stream",
     "text": [
      "1.add\n",
      "2.sub\n",
      "3.mul\n",
      "4.div\n",
      "enter your number:4\n",
      "division: 5.0\n"
     ]
    }
   ],
   "source": [
    "def add(num1,num2):\n",
    "    print(\"Addition:\",num1+num2)\n",
    "    return\n",
    "\n",
    "def sub(num1,num2):\n",
    "    print(\"subtraction:\",num1-num2)\n",
    "    return\n",
    "\n",
    "def mul(num1,num2):\n",
    "    print(\"multiplication:\",num1*num2)\n",
    "    return\n",
    "\n",
    "def div(num1,num2):\n",
    "    print(\"division:\",num1/num2)\n",
    "    return\n",
    "\n",
    "print(\"1.add\\n2.sub\\n3.mul\\n4.div\")\n",
    "choice = int(input(\"enter your number:\"))\n",
    "if choice == 1:\n",
    "    add(10,20)\n",
    "elif choice == 2:\n",
    "    sub(20,30)\n",
    "elif choice == 3:\n",
    "    mul(30,10)\n",
    "elif choice == 4:\n",
    "    div(25,5)\n",
    "elif choice >= 4:\n",
    "    print(\"sorry wrong value\")\n",
    "elif choice <= 0:\n",
    "    print(\"check your value\")\n",
    "\n"
   ]
  },
  {
   "cell_type": "code",
   "execution_count": 150,
   "metadata": {},
   "outputs": [
    {
     "name": "stdout",
     "output_type": "stream",
     "text": [
      "10\n"
     ]
    }
   ],
   "source": [
    "for i in range (1,11):\n",
    "    if i>=(10):\n",
    "        print(i)\n",
    "        break\n",
    "   "
   ]
  },
  {
   "cell_type": "code",
   "execution_count": null,
   "metadata": {},
   "outputs": [],
   "source": []
  }
 ],
 "metadata": {
  "kernelspec": {
   "display_name": "Python 3",
   "language": "python",
   "name": "python3"
  },
  "language_info": {
   "codemirror_mode": {
    "name": "ipython",
    "version": 3
   },
   "file_extension": ".py",
   "mimetype": "text/x-python",
   "name": "python",
   "nbconvert_exporter": "python",
   "pygments_lexer": "ipython3",
   "version": "3.6.3"
  }
 },
 "nbformat": 4,
 "nbformat_minor": 2
}
