{
 "cells": [
  {
   "cell_type": "code",
   "execution_count": 1,
   "metadata": {},
   "outputs": [
    {
     "name": "stdout",
     "output_type": "stream",
     "text": [
      "enter your name:vivek\n",
      "welcome vivek . welcome to kultivate official website.\n",
      "enter your marks 1:12345\n",
      "enter your marks 2:87654\n",
      "enter your marks 3:87654321\n",
      "enter your marks 4:098765432\n",
      "enter your marks 5:1234567890\n",
      "your percentage is 284217528.400000:\n"
     ]
    }
   ],
   "source": [
    "str1=input(\"enter your name:\")\n",
    "print(\"welcome %s . welcome to kultivate official website.\"%str1)\n",
    "total=0\n",
    "for i in range(1,6):\n",
    "    marks=int(input(\"enter your marks %d:\" %i))\n",
    "    total=total+marks\n",
    "p=(total/500)*100\n",
    "print(\"your percentage is: %f\" %p)"
   ]
  },
  {
   "cell_type": "code",
   "execution_count": null,
   "metadata": {},
   "outputs": [],
   "source": []
  }
 ],
 "metadata": {
  "kernelspec": {
   "display_name": "Python 3",
   "language": "python",
   "name": "python3"
  },
  "language_info": {
   "codemirror_mode": {
    "name": "ipython",
    "version": 3
   },
   "file_extension": ".py",
   "mimetype": "text/x-python",
   "name": "python",
   "nbconvert_exporter": "python",
   "pygments_lexer": "ipython3",
   "version": "3.6.3"
  }
 },
 "nbformat": 4,
 "nbformat_minor": 2
}
